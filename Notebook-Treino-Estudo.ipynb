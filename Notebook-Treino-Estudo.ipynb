{
    "metadata": {
        "kernelspec": {
            "name": "SQL",
            "display_name": "SQL",
            "language": "sql"
        },
        "language_info": {
            "name": "sql",
            "version": ""
        },
        "extensions": {
            "azuredatastudio": {
                "version": 1,
                "views": []
            }
        }
    },
    "nbformat_minor": 2,
    "nbformat": 4,
    "cells": [
        {
            "cell_type": "code",
            "source": [
                "USE TREINO_ESTUDO\r\n",
                "go"
            ],
            "metadata": {
                "azdata_cell_guid": "bf655d7b-0902-4732-9202-7c956a8dde39"
            },
            "outputs": [],
            "execution_count": null
        },
        {
            "cell_type": "markdown",
            "source": [
                "<span style=\"color: rgb(0, 128, 0);\"><b>SQL&nbsp;Statements</b></span>"
            ],
            "metadata": {
                "azdata_cell_guid": "4231f3bd-c98f-4c21-b54d-d5185b05356c"
            },
            "attachments": {}
        },
        {
            "cell_type": "markdown",
            "source": [
                "  \n",
                "\n",
                "<span style=\"color: #008000;\">List&nbsp;the&nbsp;order&nbsp;details&nbsp;where&nbsp;the&nbsp;quantity&nbsp;is&nbsp;between&nbsp;65&nbsp;and&nbsp;70.&nbsp;Display&nbsp;the&nbsp;order&nbsp;id&nbsp;and&nbsp;quantity&nbsp;from&nbsp;the&nbsp;OrderDetails&nbsp;table,&nbsp;</span> \n",
                "\n",
                "<span style=\"color: #008000;\">the&nbsp;product&nbsp;id&nbsp;and&nbsp;reorder&nbsp;level&nbsp;from&nbsp;the&nbsp;Products&nbsp;table,</span>\n",
                "\n",
                "<span style=\"color: #008000;\">and&nbsp;the&nbsp;supplier&nbsp;id&nbsp;from&nbsp;the&nbsp;Suppliers&nbsp;table.&nbsp;Order&nbsp;the&nbsp;result&nbsp;set&nbsp;by&nbsp;the&nbsp;order&nbsp;id.</span>"
            ],
            "metadata": {
                "azdata_cell_guid": "39d7b1a8-52de-4ff0-a441-09306b66a84c"
            },
            "attachments": {}
        },
        {
            "cell_type": "code",
            "source": [
                "SELECT\r\n",
                "OD.OrderID,\r\n",
                "OD.Quantity,\r\n",
                "P.ProductID,\r\n",
                "P.ReorderLevel,\r\n",
                "S.SupplierID\r\n",
                "FROM OrderDetails AS OD\r\n",
                "INNER JOIN Products as P\r\n",
                "ON OD.ProductID = P.ProductID\r\n",
                "INNER JOIN Suppliers as S\r\n",
                "ON P.SupplierID = S.SupplierID\r\n",
                "WHERE OD.Quantity BETWEEN 65 AND 70\r\n",
                "ORDER BY OD.OrderID;"
            ],
            "metadata": {
                "azdata_cell_guid": "ec1b40a9-34e8-4ec5-95fe-babb3b674880"
            },
            "outputs": [],
            "execution_count": null
        },
        {
            "cell_type": "markdown",
            "source": [
                "<span style=\"color: #008000;\">List&nbsp;the&nbsp;product&nbsp;id,&nbsp;product&nbsp;name,&nbsp;English&nbsp;name,&nbsp;and&nbsp;unit&nbsp;price&nbsp;from&nbsp;the&nbsp;Products&nbsp;table&nbsp;where&nbsp;the&nbsp;unit&nbsp;price&nbsp;is&nbsp;less&nbsp;than&nbsp;$8.00.&nbsp;</span> \n",
                "\n",
                "<span style=\"color: #008000;\">Order&nbsp;the&nbsp;result&nbsp;set&nbsp;by&nbsp;the&nbsp;product&nbsp;id.</span>"
            ],
            "metadata": {
                "azdata_cell_guid": "039e7184-87ad-4024-b6e4-74655dee2bd9"
            },
            "attachments": {}
        },
        {
            "cell_type": "code",
            "source": [
                "SELECT \r\n",
                "ProductID,\r\n",
                "ProductName,\r\n",
                "EnglishName,\r\n",
                "UnitPrice\r\n",
                "FROM\r\n",
                "Products\r\n",
                "WHERE UnitPrice < 8\r\n",
                "ORDER BY ProductID;"
            ],
            "metadata": {
                "azdata_cell_guid": "8a5b8795-9fd3-494e-bf10-005b869670eb"
            },
            "outputs": [],
            "execution_count": null
        },
        {
            "cell_type": "markdown",
            "source": [
                "<span style=\"color: #008000;\">List&nbsp;the&nbsp;customer&nbsp;id,&nbsp;company&nbsp;name,&nbsp;country,&nbsp;and&nbsp;phone&nbsp;from&nbsp;the&nbsp;Customers&nbsp;table&nbsp;where&nbsp;the&nbsp;country&nbsp;is&nbsp;equal&nbsp;to&nbsp;Canada&nbsp;or&nbsp;USA.</span>\n",
                "\n",
                "<span style=\"color: #008000;\">Order&nbsp;the&nbsp;result&nbsp;set&nbsp;by&nbsp;the&nbsp;customer&nbsp;id.</span>"
            ],
            "metadata": {
                "azdata_cell_guid": "81eed830-5477-4ad3-95a9-309453d295db"
            },
            "attachments": {}
        },
        {
            "cell_type": "code",
            "source": [
                "SELECT\r\n",
                "CustomerID,\r\n",
                "CompanyName,\r\n",
                "Country,\r\n",
                "Phone\r\n",
                "FROM\r\n",
                "Customers\r\n",
                "WHERE Country = 'Canada' OR Country = 'USA'\r\n",
                "ORDER BY CustomerID;"
            ],
            "metadata": {
                "azdata_cell_guid": "43b0cec2-eab9-4447-a6dc-64357b8d90e8"
            },
            "outputs": [],
            "execution_count": null
        },
        {
            "cell_type": "markdown",
            "source": [
                "<span style=\"color: #008000;\">List&nbsp;the&nbsp;products&nbsp;where&nbsp;the&nbsp;reorder&nbsp;level&nbsp;is&nbsp;equal&nbsp;to&nbsp;the&nbsp;units&nbsp;in&nbsp;stock.</span>\n",
                "\n",
                "<span style=\"color: #008000;\">Display&nbsp;the&nbsp;supplier&nbsp;id&nbsp;and&nbsp;supplier&nbsp;name&nbsp;from&nbsp;the&nbsp;Suppliers&nbsp;table,&nbsp;the&nbsp;product&nbsp;name,&nbsp;reorder&nbsp;level,&nbsp;and&nbsp;units&nbsp;in&nbsp;stock&nbsp;from&nbsp;the&nbsp;Products&nbsp;table.</span>\n",
                "\n",
                "<span style=\"color: #008000;\">Order&nbsp;the&nbsp;result&nbsp;set&nbsp;by&nbsp;the&nbsp;supplier&nbsp;id.</span>"
            ],
            "metadata": {
                "azdata_cell_guid": "0f47b6c8-0898-4297-ba5b-8098b000bb70"
            },
            "attachments": {}
        },
        {
            "cell_type": "code",
            "source": [
                "SELECT\r\n",
                "S.SupplierID,\r\n",
                "S.Name,\r\n",
                "P.ProductName,\r\n",
                "P.ReorderLevel,\r\n",
                "P.UnitsInStock\r\n",
                "FROM\r\n",
                "Suppliers S\r\n",
                "INNER JOIN\r\n",
                "Products P\r\n",
                "ON S.SupplierID = P.SupplierID\r\n",
                "WHERE P.ReorderLevel = P.UnitsInStock\r\n",
                "ORDER BY S.SupplierID;"
            ],
            "metadata": {
                "azdata_cell_guid": "64de0b1e-5452-4fab-adce-2c1341927e4e"
            },
            "outputs": [],
            "execution_count": null
        },
        {
            "cell_type": "markdown",
            "source": [
                "<span style=\"color: #008000;\">List&nbsp;the&nbsp;orders&nbsp;where&nbsp;the&nbsp;shipped&nbsp;date&nbsp;is&nbsp;greater&nbsp;than&nbsp;or&nbsp;equal&nbsp;to&nbsp;1st&nbsp;of&nbsp;Jan&nbsp;1994,&nbsp;</span> \n",
                "\n",
                "<span style=\"color: #008000;\">and&nbsp;calculate&nbsp;the&nbsp;length&nbsp;in&nbsp;years&nbsp;from&nbsp;the&nbsp;shipped&nbsp;date&nbsp;to&nbsp;1st&nbsp;of&nbsp;Jan&nbsp;2009.</span>\n",
                "\n",
                "<span style=\"color: #008000;\">Display&nbsp;the&nbsp;order&nbsp;id,&nbsp;and&nbsp;the&nbsp;shipped&nbsp;date&nbsp;from&nbsp;the&nbsp;Orders&nbsp;table,&nbsp;</span> \n",
                "\n",
                "<span style=\"color: #008000;\">the&nbsp;company&nbsp;name,&nbsp;and&nbsp;the&nbsp;contact&nbsp;name&nbsp;from&nbsp;the&nbsp;Customers&nbsp;table,&nbsp;and&nbsp;the&nbsp;calculated&nbsp;length&nbsp;in&nbsp;years&nbsp;for&nbsp;each&nbsp;order.&nbsp;</span> \n",
                "\n",
                "<span style=\"color: #008000;\">Display&nbsp;the&nbsp;shipped&nbsp;date&nbsp;in&nbsp;the&nbsp;format&nbsp;MMM&nbsp;DD&nbsp;YYYY.&nbsp;Order&nbsp;the&nbsp;result&nbsp;set&nbsp;by&nbsp;order&nbsp;id&nbsp;and&nbsp;the&nbsp;calculated&nbsp;years.</span>"
            ],
            "metadata": {
                "azdata_cell_guid": "3ac052c9-5df8-489d-8141-7d3f3b8ec747"
            },
            "attachments": {}
        },
        {
            "cell_type": "code",
            "source": [
                "SELECT\r\n",
                "O.OrderID,\r\n",
                "C.CompanyName,\r\n",
                "C.ContactName,\r\n",
                "CONVERT(VARCHAR,O.ShippedDate, 107) NewShippedDate,\r\n",
                "DATEDIFF(YEAR,O.ShippedDate,'2009-01-01') CalculatedYears\r\n",
                "FROM\r\n",
                "Orders O\r\n",
                "INNER JOIN\r\n",
                "Customers C\r\n",
                "ON O.CustomerID = C.CustomerID\r\n",
                "WHERE O.ShippedDate >= '1994-01-01'\r\n",
                "ORDER BY O.OrderID;"
            ],
            "metadata": {
                "azdata_cell_guid": "d9ea14b7-5cb8-4d5f-974d-29438c68e6bd"
            },
            "outputs": [],
            "execution_count": null
        },
        {
            "cell_type": "markdown",
            "source": [
                "<span style=\"color: #008000;\">List&nbsp;all&nbsp;the&nbsp;orders&nbsp;where&nbsp;the&nbsp;order&nbsp;date&nbsp;is&nbsp;between&nbsp;1st&nbsp;of&nbsp;Jan&nbsp;and&nbsp;30th&nbsp;of&nbsp;Mar&nbsp;1992,&nbsp;</span> \n",
                "\n",
                "<span style=\"color: #008000;\">and&nbsp;the&nbsp;cost&nbsp;of&nbsp;the&nbsp;order&nbsp;is&nbsp;greater&nbsp;than&nbsp;or&nbsp;equal&nbsp;to&nbsp;$1500.00.&nbsp;</span> \n",
                "\n",
                "<span style=\"color: #008000;\">Display&nbsp;the&nbsp;order&nbsp;id,&nbsp;order&nbsp;date,&nbsp;and&nbsp;a&nbsp;new&nbsp;shipped&nbsp;date&nbsp;calculated&nbsp;by&nbsp;adding&nbsp;10&nbsp;days&nbsp;to&nbsp;the&nbsp;shipped&nbsp;date&nbsp;from&nbsp;the&nbsp;Orders&nbsp;table,&nbsp;</span> \n",
                "\n",
                "<span style=\"color: #008000;\">the&nbsp;product&nbsp;name&nbsp;from&nbsp;the&nbsp;Products&nbsp;table,&nbsp;the&nbsp;company&nbsp;name&nbsp;from&nbsp;the&nbsp;Customer&nbsp;table,&nbsp;and&nbsp;the&nbsp;cost&nbsp;of&nbsp;the&nbsp;order.&nbsp;</span> \n",
                "\n",
                "<span style=\"color: #008000;\">Format&nbsp;the&nbsp;date&nbsp;order&nbsp;date&nbsp;and&nbsp;the&nbsp;shipped&nbsp;date&nbsp;as&nbsp;MON&nbsp;DD&nbsp;YYYY.</span>\n",
                "\n",
                "<span style=\"color: #008000;\">Use&nbsp;the&nbsp;formula&nbsp;(OrderDetails.Quantity&nbsp;*&nbsp;Products.UnitPrice)&nbsp;to&nbsp;calculate&nbsp;the&nbsp;cost&nbsp;of&nbsp;the&nbsp;order.&nbsp;</span> \n",
                "\n",
                "<span style=\"color: #008000;\">Order&nbsp;the&nbsp;result&nbsp;set&nbsp;by&nbsp;order&nbsp;id.</span>"
            ],
            "metadata": {
                "azdata_cell_guid": "28133f5f-d912-4e2a-9153-fd2ec279baf2"
            },
            "attachments": {}
        },
        {
            "cell_type": "code",
            "source": [
                "SELECT\r\n",
                "O.OrderID,\r\n",
                "O.OrderDate,\r\n",
                "DATEADD(DAY, 10, O.ShippedDate) AS NewShippedDate,\r\n",
                "P.ProductName,\r\n",
                "C.CompanyName,\r\n",
                "(OD.Quantity * P.UnitPrice) OrderCost\r\n",
                "FROM\r\n",
                "Orders O\r\n",
                "INNER JOIN OrderDetails OD\r\n",
                "ON O.OrderID = OD.OrderID\r\n",
                "INNER JOIN Products P\r\n",
                "ON OD.ProductID = P.ProductID\r\n",
                "INNER JOIN Customers C\r\n",
                "ON  O.CustomerID = C.CustomerID \r\n",
                "WHERE O.OrderDate BETWEEN '1992-01-01' AND '1992-03-30' AND (OD.Quantity * P.UnitPrice) >= 1500\r\n",
                "ORDER BY O.OrderID;"
            ],
            "metadata": {
                "azdata_cell_guid": "1ec28ccc-826d-4ebe-8cc8-6b2dc6672841"
            },
            "outputs": [],
            "execution_count": null
        },
        {
            "cell_type": "markdown",
            "source": [
                "<span style=\"color: #008000;\">List&nbsp;all&nbsp;the&nbsp;orders&nbsp;with&nbsp;a&nbsp;shipping&nbsp;city&nbsp;of&nbsp;Vancouver.</span>\n",
                "\n",
                "<span style=\"color: #008000;\">Display&nbsp;the&nbsp;order&nbsp;from&nbsp;the&nbsp;Orders&nbsp;table,&nbsp;and&nbsp;the&nbsp;unit&nbsp;price&nbsp;and&nbsp;quantity&nbsp;from&nbsp;the&nbsp;OrderDetails&nbsp;table.</span>\n",
                "\n",
                "<span style=\"color: #008000;\">Order&nbsp;the&nbsp;result&nbsp;set&nbsp;by&nbsp;the&nbsp;order&nbsp;id.</span>"
            ],
            "metadata": {
                "azdata_cell_guid": "989dd606-e395-4382-807e-ffdd9a506fca"
            },
            "attachments": {}
        },
        {
            "cell_type": "code",
            "source": [
                "SELECT\r\n",
                "O.OrderID,\r\n",
                "OD.UnitPrice,\r\n",
                "OD.Quantity\r\n",
                "FROM Orders O\r\n",
                "INNER JOIN OrderDetails OD\r\n",
                "ON O.OrderID = OD.OrderID\r\n",
                "WHERE O.ShipCity = 'Vancouver'\r\n",
                "ORDER BY O.OrderID;"
            ],
            "metadata": {
                "azdata_cell_guid": "04308435-8e29-4066-ba7d-8e9176f06989"
            },
            "outputs": [],
            "execution_count": null
        },
        {
            "cell_type": "markdown",
            "source": [
                "<span style=\"color: #008000;\">List&nbsp;all&nbsp;the&nbsp;orders&nbsp;that&nbsp;have&nbsp;not&nbsp;been&nbsp;shipped&nbsp;(shipped&nbsp;date&nbsp;is&nbsp;null).&nbsp;Display&nbsp;the&nbsp;customer&nbsp;id,&nbsp;</span> \n",
                "\n",
                "<span style=\"color: #008000;\">company&nbsp;name&nbsp;and&nbsp;fax&nbsp;number&nbsp;from&nbsp;the&nbsp;Customers&nbsp;table,&nbsp;and&nbsp;the&nbsp;order&nbsp;id&nbsp;and&nbsp;order&nbsp;date&nbsp;from&nbsp;the&nbsp;Orders&nbsp;table.</span>\n",
                "\n",
                "<span style=\"color: #008000;\">Order&nbsp;the&nbsp;result&nbsp;set&nbsp;by&nbsp;the&nbsp;customer&nbsp;id&nbsp;and&nbsp;order&nbsp;date.</span>"
            ],
            "metadata": {
                "azdata_cell_guid": "0d9a04eb-1863-448d-909f-75c3517e5806"
            },
            "attachments": {}
        },
        {
            "cell_type": "code",
            "source": [
                "SELECT\r\n",
                "C.CustomerID,\r\n",
                "C.CompanyName,\r\n",
                "C.Fax,\r\n",
                "O.OrderID,\r\n",
                "O.OrderDate\r\n",
                "FROM Customers C\r\n",
                "INNER JOIN Orders O\r\n",
                "ON C.CustomerID = O.CustomerID\r\n",
                "WHERE O.ShippedDate IS NULL\r\n",
                "ORDER BY C.CustomerID, O.OrderDate;"
            ],
            "metadata": {
                "azdata_cell_guid": "a9bae50d-9deb-4076-94fc-f03a50601fd4"
            },
            "outputs": [],
            "execution_count": null
        },
        {
            "cell_type": "markdown",
            "source": [
                "<span style=\"color: #008000;\">List&nbsp;the&nbsp;products&nbsp;which&nbsp;contain&nbsp;choc&nbsp;or&nbsp;tofu&nbsp;in&nbsp;their&nbsp;name.</span>\n",
                "\n",
                "<span style=\"color: #008000;\">Display&nbsp;the&nbsp;product&nbsp;id,&nbsp;product&nbsp;name,&nbsp;quantity&nbsp;per&nbsp;unit&nbsp;and&nbsp;unit&nbsp;price&nbsp;from&nbsp;the&nbsp;Products&nbsp;table.</span>\n",
                "\n",
                "<span style=\"color: #008000;\">Order&nbsp;the&nbsp;result&nbsp;set&nbsp;by&nbsp;product&nbsp;id.</span>"
            ],
            "metadata": {
                "azdata_cell_guid": "246b15d4-2182-4a25-a1a0-a6e57793b65b"
            },
            "attachments": {}
        },
        {
            "cell_type": "code",
            "source": [
                "SELECT\r\n",
                "P.ProductID,\r\n",
                "P.ProductName,\r\n",
                "P.QuantityPerUnit,\r\n",
                "P.UnitPrice\r\n",
                "FROM Products AS P\r\n",
                "WHERE P.ProductName LIKE '%choc%' OR P.ProductName LIKE '%tofu%'\r\n",
                "ORDER BY P.ProductID;"
            ],
            "metadata": {
                "azdata_cell_guid": "048723fd-8b61-4ecc-ad04-ec4be64abc69"
            },
            "outputs": [],
            "execution_count": null
        },
        {
            "cell_type": "markdown",
            "source": [
                "<span style=\"color: #008000;\">List&nbsp;the&nbsp;number&nbsp;of&nbsp;products&nbsp;and&nbsp;their&nbsp;names&nbsp;beginning&nbsp;with&nbsp;each&nbsp;letter&nbsp;of&nbsp;the&nbsp;alphabet.&nbsp;</span> \n",
                "\n",
                "<span style=\"color: #008000;\">Only&nbsp;display&nbsp;the&nbsp;letter&nbsp;and&nbsp;count&nbsp;if&nbsp;there&nbsp;are&nbsp;at&nbsp;least&nbsp;three&nbsp;product&nbsp;names&nbsp;begin&nbsp;with&nbsp;the&nbsp;letter.</span>"
            ],
            "metadata": {
                "azdata_cell_guid": "1392c0a8-05a1-4d21-9d72-77244a8de748"
            },
            "attachments": {}
        },
        {
            "cell_type": "code",
            "source": [
                "SELECT\r\n",
                "SUBSTRING (ProductName,1,1) AS FirstName,\r\n",
                "COUNT(ProductName) AS Total\r\n",
                "FROM Products \r\n",
                "GROUP BY SUBSTRING (ProductName,1,1)\r\n",
                "HAVING COUNT(ProductName) >= 3;"
            ],
            "metadata": {
                "azdata_cell_guid": "25acf39b-488a-44d3-af32-82b91feedfe1"
            },
            "outputs": [],
            "execution_count": null
        },
        {
            "cell_type": "markdown",
            "source": [
                "<span style=\"color: #008000;\"><b>INSERT,&nbsp;UPDATE,&nbsp;DELETE&nbsp;and&nbsp;VIEWS</b></span>"
            ],
            "metadata": {
                "azdata_cell_guid": "6f0e6760-d2a4-4d93-85c5-7be032606fe3"
            },
            "attachments": {}
        },
        {
            "cell_type": "markdown",
            "source": [
                "<span style=\"color: #008000;\">Create&nbsp;a&nbsp;view&nbsp;called&nbsp;vw_supplier_items&nbsp;listing&nbsp;the&nbsp;distinct&nbsp;suppliers&nbsp;and&nbsp;the&nbsp;items&nbsp;they&nbsp;have&nbsp;shipped.&nbsp;</span> \n",
                "\n",
                "<span style=\"color: #008000;\">Display&nbsp;the&nbsp;supplier&nbsp;id&nbsp;and&nbsp;name&nbsp;from&nbsp;the&nbsp;Suppliers&nbsp;table,&nbsp;and&nbsp;the&nbsp;product&nbsp;id&nbsp;and&nbsp;product&nbsp;name&nbsp;from&nbsp;the&nbsp;Products&nbsp;table.</span>"
            ],
            "metadata": {
                "azdata_cell_guid": "0f7f4916-bf67-435b-be30-6755af103213"
            },
            "attachments": {}
        },
        {
            "cell_type": "code",
            "source": [
                "CREATE VIEW vw_supplier_items\r\n",
                "AS\r\n",
                "SELECT DISTINCT\r\n",
                "S.SupplierID,\r\n",
                "S.Name,\r\n",
                "P.ProductID,\r\n",
                "P.ProductName\r\n",
                "FROM Suppliers S\r\n",
                "INNER JOIN Products P\r\n",
                "ON S.SupplierID = P.SupplierID;"
            ],
            "metadata": {
                "azdata_cell_guid": "5e8f86b2-15e8-49e0-a718-5253648cfbd3"
            },
            "outputs": [],
            "execution_count": null
        },
        {
            "cell_type": "code",
            "source": [
                "SELECT *\r\n",
                "FROM vw_supplier_items\r\n",
                "ORDER BY Name, ProductID;"
            ],
            "metadata": {
                "azdata_cell_guid": "ed95ffa1-efff-41d6-a6e3-e10b9fb3b600"
            },
            "outputs": [],
            "execution_count": null
        },
        {
            "cell_type": "markdown",
            "source": [
                "<span style=\"color: #008000;\">Create&nbsp;a&nbsp;view&nbsp;called&nbsp;vw_employee_info&nbsp;to&nbsp;list&nbsp;all&nbsp;the&nbsp;employees&nbsp;in&nbsp;the&nbsp;Employee&nbsp;table.&nbsp;</span> \n",
                "\n",
                "<span style=\"color: #008000;\">Display&nbsp;the&nbsp;employee&nbsp;id,&nbsp;last&nbsp;name,&nbsp;first&nbsp;name,&nbsp;and&nbsp;birth&nbsp;date.&nbsp;</span> \n",
                "\n",
                "<span style=\"color: #008000;\">Format&nbsp;the&nbsp;name&nbsp;as&nbsp;first&nbsp;name&nbsp;followed&nbsp;by&nbsp;a&nbsp;space&nbsp;followed&nbsp;by&nbsp;the&nbsp;last&nbsp;name.</span>"
            ],
            "metadata": {
                "azdata_cell_guid": "f6f51243-c285-49ea-a3ae-07b272299df7"
            },
            "attachments": {}
        },
        {
            "cell_type": "code",
            "source": [
                "CREATE VIEW vw_employee_info\r\n",
                "AS\r\n",
                "SELECT\r\n",
                "EmployeeID,\r\n",
                "CONCAT(FirstName, ' ', LastName) AS Name,\r\n",
                "BirthDate\r\n",
                "FROM Employees;"
            ],
            "metadata": {
                "azdata_cell_guid": "576575ae-fa69-4bf5-bc31-0b7c6c5aaeb3"
            },
            "outputs": [],
            "execution_count": null
        },
        {
            "cell_type": "code",
            "source": [
                "SELECT *\r\n",
                "FROM vw_employee_info\r\n",
                "WHERE EmployeeID IN ( 3, 6, 9 );"
            ],
            "metadata": {
                "azdata_cell_guid": "ebcedf74-184a-4cad-ac51-9c6bfbd1d40d"
            },
            "outputs": [],
            "execution_count": null
        },
        {
            "cell_type": "markdown",
            "source": [
                "<span style=\"color: #008000;\">Using&nbsp;the&nbsp;UPDATE&nbsp;statement,&nbsp;change&nbsp;the&nbsp;fax&nbsp;value&nbsp;to&nbsp;Unknown&nbsp;for&nbsp;all&nbsp;rows&nbsp;in&nbsp;the&nbsp;Customers&nbsp;table</span>\n",
                "\n",
                "<span style=\"color: #008000;\">where&nbsp;the&nbsp;current&nbsp;fax&nbsp;value&nbsp;is&nbsp;null&nbsp;(22&nbsp;rows&nbsp;affected).</span>"
            ],
            "metadata": {
                "azdata_cell_guid": "a58977db-588d-4ee3-9b9b-975acab14d4e"
            },
            "attachments": {}
        },
        {
            "cell_type": "code",
            "source": [
                "SELECT * FROM Customers WHERE Fax IS NULL\r\n",
                ""
            ],
            "metadata": {
                "azdata_cell_guid": "98c9dd8b-121b-4b90-aad1-1661c4396e03"
            },
            "outputs": [],
            "execution_count": null
        },
        {
            "cell_type": "code",
            "source": [
                "--BEGIN TRAN\r\n",
                "---UPDATE Customers SET Fax = 'Unknown' WHERE Fax IS NULL\r\n",
                "--ROLLBACK"
            ],
            "metadata": {
                "azdata_cell_guid": "b1d05d07-2974-4d25-b627-2c5d04bf02b4"
            },
            "outputs": [],
            "execution_count": null
        },
        {
            "cell_type": "markdown",
            "source": [
                "<span style=\"color: #008000;\">Create&nbsp;a&nbsp;view&nbsp;called&nbsp;vw_order_cost&nbsp;to&nbsp;list&nbsp;the&nbsp;cost&nbsp;of&nbsp;orders.&nbsp;</span> \n",
                "\n",
                "<span style=\"color: #008000;\">Display&nbsp;the&nbsp;order&nbsp;id&nbsp;and&nbsp;order_date&nbsp;from&nbsp;the&nbsp;Orders&nbsp;table,&nbsp;the&nbsp;product&nbsp;id&nbsp;from&nbsp;the&nbsp;Products&nbsp;table,&nbsp;</span> \n",
                "\n",
                "<span style=\"color: #008000;\">the&nbsp;company&nbsp;name&nbsp;from&nbsp;the&nbsp;Customers&nbsp;table,&nbsp;and&nbsp;the&nbsp;order&nbsp;cost.&nbsp;</span> \n",
                "\n",
                "<span style=\"color: #008000;\">To&nbsp;calculate&nbsp;the&nbsp;cost&nbsp;of&nbsp;the&nbsp;orders,&nbsp;use&nbsp;the&nbsp;formula:&nbsp;(OrderDetails.Quantity&nbsp;*&nbsp;OrderDetails.UnitPrice).</span>"
            ],
            "metadata": {
                "azdata_cell_guid": "7b1a90f9-ad82-438c-83bf-e7d523094bd8"
            },
            "attachments": {}
        },
        {
            "cell_type": "code",
            "source": [
                "CREATE VIEW vw_order_cost\r\n",
                "AS\r\n",
                "SELECT\r\n",
                "O.OrderID,\r\n",
                "O.OrderDate,\r\n",
                "P.ProductID,\r\n",
                "C.CompanyName,\r\n",
                "(OD.Quantity * P.UnitPrice) OrderCost\r\n",
                "FROM\r\n",
                "Orders O\r\n",
                "INNER JOIN OrderDetails OD\r\n",
                "ON O.OrderID = OD.OrderID\r\n",
                "INNER JOIN Products P\r\n",
                "ON OD.ProductID = P.ProductID\r\n",
                "INNER JOIN Customers C\r\n",
                "ON  O.CustomerID = C.CustomerID; "
            ],
            "metadata": {
                "azdata_cell_guid": "a4ac1dab-9672-4c33-8bf9-b1ce30159553"
            },
            "outputs": [],
            "execution_count": null
        },
        {
            "cell_type": "code",
            "source": [
                "SELECT *\r\n",
                "FROM vw_order_cost\r\n",
                "WHERE orderID BETWEEN 10100 AND 10200\r\n",
                "ORDER BY ProductID;"
            ],
            "metadata": {
                "azdata_cell_guid": "4991e527-ffc5-4a9c-a4b2-c263394967c3"
            },
            "outputs": [],
            "execution_count": null
        },
        {
            "cell_type": "markdown",
            "source": [
                "<span style=\"color: #008000;\">Using&nbsp;the&nbsp;INSERT&nbsp;statement,&nbsp;add&nbsp;a&nbsp;row&nbsp;to&nbsp;the&nbsp;Suppliers&nbsp;table&nbsp;with&nbsp;a&nbsp;supplier&nbsp;id&nbsp;of&nbsp;16&nbsp;and&nbsp;a&nbsp;name&nbsp;of&nbsp;'Supplier&nbsp;P'.</span>"
            ],
            "metadata": {
                "azdata_cell_guid": "8f4704e2-95a7-42cc-97c6-2034a469c415"
            },
            "attachments": {}
        },
        {
            "cell_type": "code",
            "source": [
                "SELECT * FROM Suppliers;"
            ],
            "metadata": {
                "azdata_cell_guid": "380244d5-884e-4aaa-8340-3ee89e559e15"
            },
            "outputs": [],
            "execution_count": null
        },
        {
            "cell_type": "code",
            "source": [
                "--BEGIN TRAN\r\n",
                "--INSERT INTO Suppliers (SupplierID, Name) VALUES (16, 'Supplier P')\r\n",
                "--ROLLBACK"
            ],
            "metadata": {
                "azdata_cell_guid": "a26c29aa-7b13-4bb3-aeed-0f2a7bde3d13"
            },
            "outputs": [],
            "execution_count": null
        },
        {
            "cell_type": "markdown",
            "source": [
                "<span style=\"color: #008000;\">Using&nbsp;the&nbsp;UPDATE&nbsp;statement,&nbsp;increase&nbsp;the&nbsp;unit&nbsp;price&nbsp;in&nbsp;the&nbsp;Products&nbsp;table&nbsp;by&nbsp;15%&nbsp;for&nbsp;rows&nbsp;with&nbsp;a&nbsp;current&nbsp;unit&nbsp;price&nbsp;less&nbsp;than&nbsp;$5.00</span>"
            ],
            "metadata": {
                "azdata_cell_guid": "2b945403-51fc-415b-8d65-849e421390ce"
            },
            "attachments": {}
        },
        {
            "cell_type": "code",
            "source": [
                "SELECT * FROM Products WHERE UnitPrice < 5;"
            ],
            "metadata": {
                "azdata_cell_guid": "df473dcb-0055-4421-a35b-dcf41e54527f"
            },
            "outputs": [],
            "execution_count": null
        },
        {
            "cell_type": "code",
            "source": [
                "--BEGIN TRAN\r\n",
                "--UPDATE Products SET UnitPrice = UnitPrice * 1.5 WHERE UnitPrice < 5\r\n",
                "--ROLLBACK"
            ],
            "metadata": {
                "azdata_cell_guid": "ac30d943-5dc9-4f0e-bade-4e9cfa4113a3"
            },
            "outputs": [],
            "execution_count": null
        },
        {
            "cell_type": "markdown",
            "source": [
                "<span style=\"color: #008000;\">Create&nbsp;a&nbsp;view&nbsp;called&nbsp;vw_orders&nbsp;to&nbsp;list&nbsp;orders.&nbsp;</span> \n",
                "\n",
                "<span style=\"color: #008000;\">Display&nbsp;the&nbsp;order&nbsp;id&nbsp;and&nbsp;shipped&nbsp;date&nbsp;from&nbsp;the&nbsp;Orders&nbsp;table,&nbsp;and&nbsp;the&nbsp;customer&nbsp;id,&nbsp;company&nbsp;name,&nbsp;city,&nbsp;and&nbsp;country&nbsp;from&nbsp;the&nbsp;Customers&nbsp;table.</span>"
            ],
            "metadata": {
                "azdata_cell_guid": "f707d2bc-02e6-443f-add1-fbdd5c919cd4"
            },
            "attachments": {}
        },
        {
            "cell_type": "code",
            "source": [
                "CREATE VIEW vw_orders \r\n",
                "AS\r\n",
                "SELECT\r\n",
                "O.OrderID,\r\n",
                "C.CustomerID,\r\n",
                "C.CompanyName,\r\n",
                "C.City,\r\n",
                "C.Country,\r\n",
                "O.ShippedDate\r\n",
                "FROM Orders O\r\n",
                "INNER JOIN Customers C\r\n",
                "ON O.CustomerID = C.CustomerID;"
            ],
            "metadata": {
                "azdata_cell_guid": "ed73ade4-f151-450d-be6e-c87544b3c6ca"
            },
            "outputs": [],
            "execution_count": null
        },
        {
            "cell_type": "code",
            "source": [
                "SELECT *\r\n",
                "FROM vw_orders\r\n",
                "WHERE ShippedDate BETWEEN '1993-01-01' AND '1993-01-31'\r\n",
                "ORDER BY CompanyName, Country;"
            ],
            "metadata": {
                "azdata_cell_guid": "2e1439b7-e4cc-4ff4-bbfb-480f60a61b35"
            },
            "outputs": [],
            "execution_count": null
        }
    ]
}